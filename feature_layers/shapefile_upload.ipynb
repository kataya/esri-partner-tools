{
 "cells": [
  {
   "cell_type": "markdown",
   "metadata": {},
   "source": [
    "# Bulk Shapefile Upload\n",
    "*A notebook to read shapefiles and upload their data as [hosted feature layers](https://doc.arcgis.com/en/arcgis-online/share-maps/hosted-web-layers.htm) in ArcGIS*"
   ]
  },
  {
   "cell_type": "code",
   "execution_count": null,
   "metadata": {
    "collapsed": true,
    "jupyter": {
     "outputs_hidden": true
    }
   },
   "outputs": [],
   "source": [
    "# common imports\n",
    "import os\n",
    "from arcgis.gis import *\n",
    "import shutil"
   ]
  },
  {
   "cell_type": "markdown",
   "metadata": {},
   "source": [
    "## User Input\n",
    "\n",
    "* **gis**: your GIS instance, parameter information [here](https://developers.arcgis.com/python/guide/using-the-gis/)\n",
    "* **dir_path**: path to directory with the Shapefiles"
   ]
  },
  {
   "cell_type": "code",
   "execution_count": null,
   "metadata": {
    "collapsed": true,
    "jupyter": {
     "outputs_hidden": true
    }
   },
   "outputs": [],
   "source": [
    "gis = GIS(\"https://www.arcgis.com\", \"<USERNAME>\", \"<PASSWORD>\")\n",
    "\n",
    "dir_path = \"<DIRECTORY PATH>\""
   ]
  },
  {
   "cell_type": "markdown",
   "metadata": {},
   "source": [
    "## Execution"
   ]
  },
  {
   "cell_type": "code",
   "execution_count": null,
   "metadata": {
    "collapsed": true,
    "jupyter": {
     "outputs_hidden": true
    }
   },
   "outputs": [],
   "source": [
    "# get an array of all the shapefiles in the directory\n",
    "shapefiles = [file for file in os.listdir(dir_path) if file.endswith('.shp')]\n",
    "shp_paths = [os.path.join(dir_path, file) for file in shapefiles]\n",
    "print(\"Pushing {0} shapefile(s)\".format(len(shp_paths)))"
   ]
  },
  {
   "cell_type": "code",
   "execution_count": null,
   "metadata": {
    "collapsed": true,
    "jupyter": {
     "outputs_hidden": true
    }
   },
   "outputs": [],
   "source": [
    "# create a new folder in the GIS to store the layers (if it doesn't already exist)\n",
    "folder = os.path.basename(dir_path)\n",
    "gis_folder = gis.content.create_folder(folder)\n",
    "\n",
    "# handle folder already exists\n",
    "gis_folder = folder if gis_folder is None else gis_folder"
   ]
  },
  {
   "cell_type": "code",
   "execution_count": null,
   "metadata": {
    "collapsed": true,
    "jupyter": {
     "outputs_hidden": true
    }
   },
   "outputs": [],
   "source": [
    "# loop through shapefiles, zip them for upload, upload layers to GIS, move to new folder\n",
    "for i, shp_path in enumerate(shp_paths):\n",
    "    # create a temp dir to work in\n",
    "    with tempfile.TemporaryDirectory() as temp_dir:\n",
    "        # copy all shapefile files into temp dir and zip the dir.\n",
    "        temp_shp_dir = os.path.join(temp_dir, os.path.splitext(os.path.basename(shp_path))[0])\n",
    "        os.makedirs(temp_shp_dir)\n",
    "        for ext in ['.shp', '.dbf', '.cpg', '.prj', '.sbn', '.sbx', '.shp.xml', '.shx']:\n",
    "            if os.path.exists(os.path.splitext(shp_path)[0] + ext):\n",
    "                shutil.copy(os.path.splitext(shp_path)[0]+ext, temp_shp_dir)\n",
    "                \n",
    "        shp_zip = shutil.make_archive(temp_shp_dir, 'zip', root_dir=temp_shp_dir)\n",
    "        \n",
    "        # publish the shapefile zip\n",
    "        title = os.path.splitext(os.path.basename(shp_path))[0]\n",
    "        item = gis.content.add(data=shp_zip, item_properties={\n",
    "            \"title\": title,\n",
    "            'type': 'Shapefile',\n",
    "            \"tags\": title})\n",
    "        # see also: https://developers.arcgis.com/rest/services-reference/feature-service.htm\n",
    "        features_service = item.publish({\n",
    "            \"name\": os.path.splitext(item['name'])[0],\n",
    "            \"hasStaticData\": True,\n",
    "            \"layerInfo\": {\"capabilities\": \"Query\"}\n",
    "        })\n",
    "        \n",
    "        # move the newly uploaded item to the folder created earlier\n",
    "        item.move(folder)\n",
    "        features_service.move(folder)\n",
    "    \n",
    "    print(\"{0}/{1}\".format(i + 1, len(shp_paths)))\n"
   ]
  }
 ],
 "metadata": {
  "kernelspec": {
   "display_name": "Python 3",
   "language": "python",
   "name": "python3"
  },
  "language_info": {
   "codemirror_mode": {
    "name": "ipython",
    "version": 3
   },
   "file_extension": ".py",
   "mimetype": "text/x-python",
   "name": "python",
   "nbconvert_exporter": "python",
   "pygments_lexer": "ipython3",
   "version": "3.7.4"
  }
 },
 "nbformat": 4,
 "nbformat_minor": 4
}
