{
 "cells": [
  {
   "cell_type": "markdown",
   "metadata": {},
   "source": [
    "# Append Data\n",
    "Reads a csv into a dataframe, chunks the dataframe, publishes the first chunk, then appends the remaining chunks. This showcases the **[`edit_features`](https://esri.github.io/arcgis-python-api/apidoc/html/arcgis.features.toc.html#arcgis.features.FeatureLayer.edit_features)** function to append data when working with a [Spatially Enabled DataFrame](https://developers.arcgis.com/python/guide/introduction-to-the-spatially-enabled-dataframe/). This method sends the JSON data. In ArcGIS Online, there's also an **[`append`](https://developers.arcgis.com/python/api-reference/arcgis.features.toc.html#arcgis.features.FeatureLayer.append)** method that upserts data from a previously existing file item (which we'd [love](https://github.com/mpayson/esri-partner-tools/issues/13) a sample for!)"
   ]
  },
  {
   "cell_type": "code",
   "execution_count": 3,
   "metadata": {},
   "outputs": [],
   "source": [
    "import pandas as pd\n",
    "from arcgis.gis import GIS"
   ]
  },
  {
   "cell_type": "markdown",
   "metadata": {},
   "source": [
    "***Note**, if you are unable to import local `partnerutils`, **copy the following functions** from [`cool_utils`](https://github.com/mpayson/esri-partner-tools/blob/master/partnerutils/cool_utils.py) and [`feature_utils`](https://github.com/mpayson/esri-partner-tools/blob/master/partnerutils/feature_utils.py)"
   ]
  },
  {
   "cell_type": "code",
   "execution_count": 4,
   "metadata": {},
   "outputs": [],
   "source": [
    "from partnerutils.cool_utils import chunk_df\n",
    "from partnerutils.feature_utils import sdf_from_xyz"
   ]
  },
  {
   "cell_type": "markdown",
   "metadata": {},
   "source": [
    "### Input"
   ]
  },
  {
   "cell_type": "code",
   "execution_count": 5,
   "metadata": {},
   "outputs": [
    {
     "name": "stdin",
     "output_type": "stream",
     "text": [
      "Enter password:  ········\n"
     ]
    }
   ],
   "source": [
    "# this will prompt for a password\n",
    "# can also do GIS(\"https://www.arcgis.com\", \"<USERNAME>\", \"<PASSWORD>\")\n",
    "gis = GIS(username=\"mpayson_startups\")"
   ]
  },
  {
   "cell_type": "code",
   "execution_count": 7,
   "metadata": {},
   "outputs": [],
   "source": [
    "# path to data\n",
    "csv_path = \"../sample_data/NYC_Restaurant_Inspections.csv\"\n",
    "\n",
    "x_col = \"Longitude\"\n",
    "y_col = \"Latitude\""
   ]
  },
  {
   "cell_type": "markdown",
   "metadata": {},
   "source": [
    "### Execution"
   ]
  },
  {
   "cell_type": "code",
   "execution_count": 8,
   "metadata": {},
   "outputs": [
    {
     "data": {
      "text/plain": [
       "5000"
      ]
     },
     "execution_count": 8,
     "metadata": {},
     "output_type": "execute_result"
    }
   ],
   "source": [
    "# read csv and construct spatial dataframe\n",
    "df = pd.read_csv(csv_path)\n",
    "sdf = sdf_from_xyz(df, x_col, y_col)\n",
    "len(sdf)"
   ]
  },
  {
   "cell_type": "code",
   "execution_count": 10,
   "metadata": {},
   "outputs": [
    {
     "data": {
      "text/html": [
       "<div class=\"item_container\" style=\"height: auto; overflow: hidden; border: 1px solid #cfcfcf; border-radius: 2px; background: #f6fafa; line-height: 1.21429em; padding: 10px;\">\n",
       "                    <div class=\"item_left\" style=\"width: 210px; float: left;\">\n",
       "                       <a href='https://Startups.maps.arcgis.com/home/item.html?id=064ffb1fc9084660a86501fbe7fa165d' target='_blank'>\n",
       "                        <img src='http://static.arcgis.com/images/desktopapp.png' class=\"itemThumbnail\">\n",
       "                       </a>\n",
       "                    </div>\n",
       "\n",
       "                    <div class=\"item_right\"     style=\"float: none; width: auto; overflow: hidden;\">\n",
       "                        <a href='https://Startups.maps.arcgis.com/home/item.html?id=064ffb1fc9084660a86501fbe7fa165d' target='_blank'><b>MyFeatureService</b>\n",
       "                        </a>\n",
       "                        <br/><img src='https://Startups.maps.arcgis.com/home/js/jsapi/esri/css/images/item_type_icons/featureshosted16.png' style=\"vertical-align:middle;\">Feature Layer Collection by mpayson_startups\n",
       "                        <br/>Last Modified: October 30, 2019\n",
       "                        <br/>0 comments, 0 views\n",
       "                    </div>\n",
       "                </div>\n",
       "                "
      ],
      "text/plain": [
       "<Item title:\"MyFeatureService\" type:Feature Layer Collection owner:mpayson_startups>"
      ]
     },
     "execution_count": 10,
     "metadata": {},
     "output_type": "execute_result"
    }
   ],
   "source": [
    "# iterate through chunks to create and append data\n",
    "lyr = None\n",
    "for c_df in chunk_df(sdf):\n",
    "    if not lyr:\n",
    "        item = c_df.spatial.to_featurelayer(\"MyFeatureService\", tags=\"esri_partner_tools_sample\")\n",
    "        lyr = item.layers[0]\n",
    "    else:\n",
    "        # THIS IS THE APPEND DATA PART\n",
    "        fs = c_df.spatial.to_featureset()\n",
    "        success = lyr.edit_features(adds=fs)\n",
    "item"
   ]
  },
  {
   "cell_type": "markdown",
   "metadata": {},
   "source": [
    "### Clean up"
   ]
  },
  {
   "cell_type": "code",
   "execution_count": null,
   "metadata": {},
   "outputs": [],
   "source": [
    "delete_items = gis.content.search(\"tags:esri_partner_tools_sample\")\n",
    "gis.content.delete_items(delete_items)"
   ]
  }
 ],
 "metadata": {
  "kernelspec": {
   "display_name": "Python 3",
   "language": "python",
   "name": "python3"
  },
  "language_info": {
   "codemirror_mode": {
    "name": "ipython",
    "version": 3
   },
   "file_extension": ".py",
   "mimetype": "text/x-python",
   "name": "python",
   "nbconvert_exporter": "python",
   "pygments_lexer": "ipython3",
   "version": "3.7.4"
  }
 },
 "nbformat": 4,
 "nbformat_minor": 4
}
