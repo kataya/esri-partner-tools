{
 "cells": [
  {
   "cell_type": "markdown",
   "metadata": {},
   "source": [
    "# Bulk CSV Upload\n",
    "A notebook to read csvs and upload their data as [hosted feature layers](https://doc.arcgis.com/en/arcgis-online/share-maps/hosted-web-layers.htm) in ArcGIS"
   ]
  },
  {
   "cell_type": "code",
   "execution_count": 1,
   "metadata": {},
   "outputs": [],
   "source": [
    "# common imports\n",
    "import os\n",
    "import pandas as pd\n",
    "from arcgis.gis import GIS"
   ]
  },
  {
   "cell_type": "markdown",
   "metadata": {},
   "source": [
    "***Note**, if you are unable to import local `partnerutils`, **copy the following functions** from [`feature_utils`](https://github.com/mpayson/esri-partner-tools/blob/master/partnerutils/feature_utils.py)"
   ]
  },
  {
   "cell_type": "code",
   "execution_count": 2,
   "metadata": {},
   "outputs": [],
   "source": [
    "from partnerutils.feature_utils import sdf_from_xyz"
   ]
  },
  {
   "cell_type": "markdown",
   "metadata": {},
   "source": [
    "## User Input\n",
    "\n",
    "* **gis**: your GIS instance, parameter information [here](https://developers.arcgis.com/python/guide/using-the-gis/)\n",
    "* **dir_path**: path to directory with the CSVs\n",
    "* **coord_fields**: map Point fields to CSV columns"
   ]
  },
  {
   "cell_type": "code",
   "execution_count": 4,
   "metadata": {},
   "outputs": [
    {
     "name": "stdin",
     "output_type": "stream",
     "text": [
      "Enter password:  ········\n"
     ]
    }
   ],
   "source": [
    "# this will prompt for a password\n",
    "# can also do GIS(\"https://www.arcgis.com\", \"<USERNAME>\", \"<PASSWORD>\")\n",
    "gis = GIS(username=\"mpayson_startups\")"
   ]
  },
  {
   "cell_type": "code",
   "execution_count": 5,
   "metadata": {},
   "outputs": [],
   "source": [
    "dir_path = \"../sample_data\"\n",
    "coord_fields = {\n",
    "    \"x\": \"Longitude\",\n",
    "    \"y\": \"Latitude\",\n",
    "    #\"z\": \"<Z COLUMN (optional)>\"\n",
    "}"
   ]
  },
  {
   "cell_type": "markdown",
   "metadata": {},
   "source": [
    "## Execution"
   ]
  },
  {
   "cell_type": "code",
   "execution_count": 6,
   "metadata": {},
   "outputs": [],
   "source": [
    "# create a new folder in the GIS to store the layers\n",
    "folder = os.path.basename(dir_path)\n",
    "gis_folder = gis.content.create_folder(folder)\n",
    "\n",
    "# handle folder already exists\n",
    "gis_folder = folder if gis_folder is None else gis_folder"
   ]
  },
  {
   "cell_type": "code",
   "execution_count": 7,
   "metadata": {},
   "outputs": [
    {
     "name": "stdout",
     "output_type": "stream",
     "text": [
      "Pushing 1 csvs\n"
     ]
    }
   ],
   "source": [
    "# get an array of all the csvs in the directory\n",
    "csvs = [file for file in os.listdir(dir_path) if file.endswith('.csv')]\n",
    "csv_paths = [os.path.join(dir_path, csv) for csv in csvs]\n",
    "n_paths = len(csv_paths)\n",
    "print(\"Pushing {0} csvs\".format(n_paths))"
   ]
  },
  {
   "cell_type": "code",
   "execution_count": 8,
   "metadata": {},
   "outputs": [
    {
     "name": "stdout",
     "output_type": "stream",
     "text": [
      "1/1\n"
     ]
    }
   ],
   "source": [
    "# loop through csvs, build spatial dataframe, upload layers to GIS, move to new folder\n",
    "z_field = coord_fields['z'] if 'z' in coord_fields else None\n",
    "items = []\n",
    "for i, csv_path in enumerate(csv_paths):\n",
    "    df = pd.read_csv(csv_path)\n",
    "    sdf = sdf_from_xyz(df, coord_fields['x'], coord_fields['y'], z_field)\n",
    "    \n",
    "    title = os.path.splitext(os.path.basename(csv_path))[0]\n",
    "    lyr_item = gis.content.import_data(sdf, title=title, tags=\"esri_partner_tools_sample\")\n",
    "    lyr_item.move(gis_folder)\n",
    "    \n",
    "    items.append(lyr_item)\n",
    "    print(\"{0}/{1}\".format(i + 1, n_paths))"
   ]
  },
  {
   "cell_type": "markdown",
   "metadata": {},
   "source": [
    "## Clean Up"
   ]
  },
  {
   "cell_type": "code",
   "execution_count": 15,
   "metadata": {},
   "outputs": [
    {
     "data": {
      "text/plain": [
       "True"
      ]
     },
     "execution_count": 15,
     "metadata": {},
     "output_type": "execute_result"
    }
   ],
   "source": [
    "delete_items = gis.content.search(\"tags:esri_partner_tools_sample\")\n",
    "gis.content.delete_items(delete_items)\n",
    "gis.content.delete_folder(gis_folder['title'])"
   ]
  }
 ],
 "metadata": {
  "kernelspec": {
   "display_name": "Python 3",
   "language": "python",
   "name": "python3"
  },
  "language_info": {
   "codemirror_mode": {
    "name": "ipython",
    "version": 3
   },
   "file_extension": ".py",
   "mimetype": "text/x-python",
   "name": "python",
   "nbconvert_exporter": "python",
   "pygments_lexer": "ipython3",
   "version": "3.7.4"
  }
 },
 "nbformat": 4,
 "nbformat_minor": 4
}
