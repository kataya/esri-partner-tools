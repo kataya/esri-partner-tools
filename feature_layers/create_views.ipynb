{
 "cells": [
  {
   "cell_type": "markdown",
   "metadata": {},
   "source": [
    "# Create views\n",
    "\n",
    "Create new [view items](https://doc.arcgis.com/en/arcgis-online/manage-data/create-hosted-views.htm) from feature layer items. View items are akin to database views--they can have separate permissions and capabilities as well as limited access to a subset of the underlying data. This means you can maintain a single, authoritative layer while controlling how different groups of users can access and interact with that layer."
   ]
  },
  {
   "cell_type": "code",
   "execution_count": 1,
   "metadata": {},
   "outputs": [],
   "source": [
    "# common imports\n",
    "import os\n",
    "import pandas as pd\n",
    "from arcgis.gis import GIS\n",
    "from arcgis.features import FeatureLayerCollection, FeatureLayer"
   ]
  },
  {
   "cell_type": "markdown",
   "metadata": {},
   "source": [
    "***Note**, if you are unable to import local `partnerutils`, **copy the following functions** from [`feature_utils`](https://github.com/mpayson/esri-partner-tools/blob/master/partnerutils/feature_utils.py)"
   ]
  },
  {
   "cell_type": "code",
   "execution_count": 2,
   "metadata": {},
   "outputs": [],
   "source": [
    "from partnerutils.feature_utils import sdf_from_xyz"
   ]
  },
  {
   "cell_type": "markdown",
   "metadata": {},
   "source": [
    "**GIS**: Your GIS instance, parameter information [here](https://developers.arcgis.com/python/guide/using-the-gis/). Not specifying a password creates a password prompt"
   ]
  },
  {
   "cell_type": "code",
   "execution_count": 3,
   "metadata": {},
   "outputs": [
    {
     "name": "stdin",
     "output_type": "stream",
     "text": [
      "Enter password:  ········\n"
     ]
    }
   ],
   "source": [
    "gis = GIS(username=\"mpayson_startups\")"
   ]
  },
  {
   "cell_type": "markdown",
   "metadata": {},
   "source": [
    "### Create demo layer"
   ]
  },
  {
   "cell_type": "code",
   "execution_count": 4,
   "metadata": {},
   "outputs": [
    {
     "data": {
      "text/html": [
       "<div class=\"item_container\" style=\"height: auto; overflow: hidden; border: 1px solid #cfcfcf; border-radius: 2px; background: #f6fafa; line-height: 1.21429em; padding: 10px;\">\n",
       "                    <div class=\"item_left\" style=\"width: 210px; float: left;\">\n",
       "                       <a href='https://Startups.maps.arcgis.com/home/item.html?id=12783c8e19ad4cafb9b9981e94e834e3' target='_blank'>\n",
       "                        <img src='http://static.arcgis.com/images/desktopapp.png' class=\"itemThumbnail\">\n",
       "                       </a>\n",
       "                    </div>\n",
       "\n",
       "                    <div class=\"item_right\"     style=\"float: none; width: auto; overflow: hidden;\">\n",
       "                        <a href='https://Startups.maps.arcgis.com/home/item.html?id=12783c8e19ad4cafb9b9981e94e834e3' target='_blank'><b>Base demo layer</b>\n",
       "                        </a>\n",
       "                        <br/><img src='https://Startups.maps.arcgis.com/home/js/jsapi/esri/css/images/item_type_icons/featureshosted16.png' style=\"vertical-align:middle;\">Feature Layer Collection by mpayson_startups\n",
       "                        <br/>Last Modified: November 06, 2019\n",
       "                        <br/>0 comments, 0 views\n",
       "                    </div>\n",
       "                </div>\n",
       "                "
      ],
      "text/plain": [
       "<Item title:\"Base demo layer\" type:Feature Layer Collection owner:mpayson_startups>"
      ]
     },
     "execution_count": 4,
     "metadata": {},
     "output_type": "execute_result"
    }
   ],
   "source": [
    "df = pd.read_csv('../sample_data/NYC_Restaurant_Inspections.csv', encoding='utf-8')\n",
    "sdf = sdf_from_xyz(df, 'Longitude', 'Latitude')\n",
    "lyr_item = sdf.spatial.to_featurelayer(\n",
    "    'Base demo layer',\n",
    "    tags=\"esri_partner_tools_sample\"\n",
    ")\n",
    "lyr_item"
   ]
  },
  {
   "cell_type": "markdown",
   "metadata": {},
   "source": [
    "## Execution"
   ]
  },
  {
   "cell_type": "markdown",
   "metadata": {},
   "source": [
    "### Create view item - [doc](https://developers.arcgis.com/python/api-reference/arcgis.features.managers.html?highlight=create_view#arcgis.features.managers.FeatureLayerCollectionManager.create_view)"
   ]
  },
  {
   "cell_type": "code",
   "execution_count": 5,
   "metadata": {},
   "outputs": [
    {
     "data": {
      "text/html": [
       "<div class=\"item_container\" style=\"height: auto; overflow: hidden; border: 1px solid #cfcfcf; border-radius: 2px; background: #f6fafa; line-height: 1.21429em; padding: 10px;\">\n",
       "                    <div class=\"item_left\" style=\"width: 210px; float: left;\">\n",
       "                       <a href='https://Startups.maps.arcgis.com/home/item.html?id=c6c74ccc65714d8ba77e308d2d29e87d' target='_blank'>\n",
       "                        <img src='http://static.arcgis.com/images/desktopapp.png' class=\"itemThumbnail\">\n",
       "                       </a>\n",
       "                    </div>\n",
       "\n",
       "                    <div class=\"item_right\"     style=\"float: none; width: auto; overflow: hidden;\">\n",
       "                        <a href='https://Startups.maps.arcgis.com/home/item.html?id=c6c74ccc65714d8ba77e308d2d29e87d' target='_blank'><b>Base demo view</b>\n",
       "                        </a>\n",
       "                        <br/><img src='https://Startups.maps.arcgis.com/home/js/jsapi/esri/css/images/item_type_icons/featureshosted16.png' style=\"vertical-align:middle;\">Feature Layer Collection by mpayson_startups\n",
       "                        <br/>Last Modified: November 06, 2019\n",
       "                        <br/>0 comments, 0 views\n",
       "                    </div>\n",
       "                </div>\n",
       "                "
      ],
      "text/plain": [
       "<Item title:\"Base demo view\" type:Feature Layer Collection owner:mpayson_startups>"
      ]
     },
     "execution_count": 5,
     "metadata": {},
     "output_type": "execute_result"
    }
   ],
   "source": [
    "# A feature service can have many layers, so a FeatureLayerCollection represents\n",
    "# the underlying service. Often, like through the Python API, newly created layers\n",
    "# create new services as well. So the desired layer is the first layer in the service.\n",
    "flc = FeatureLayerCollection.fromitem(lyr_item)\n",
    "view_item = flc.manager.create_view('Base demo view')\n",
    "view_item.update(item_properties={'tags': 'esri_partner_tools_sample'})\n",
    "view_item"
   ]
  },
  {
   "cell_type": "code",
   "execution_count": 6,
   "metadata": {},
   "outputs": [
    {
     "name": "stdout",
     "output_type": "stream",
     "text": [
      "# features: 5000, # fields: 27\n"
     ]
    }
   ],
   "source": [
    "view_lyr = view_item.layers[0]\n",
    "\n",
    "# create a reference sdf so we can compare what data is available in the view\n",
    "def print_reference(ref_view_lyr):\n",
    "    ref_sdf = ref_view_lyr.query().sdf\n",
    "    print(\"# features: {}, # fields: {}\".format(len(ref_sdf), len(ref_sdf.columns)))\n",
    "\n",
    "print_reference(view_lyr)"
   ]
  },
  {
   "cell_type": "markdown",
   "metadata": {},
   "source": [
    "### Update visible data in view"
   ]
  },
  {
   "cell_type": "markdown",
   "metadata": {},
   "source": [
    "#### Fields\n",
    "Update visible fields, only specify visible fields. Note, objectIdField must be visible"
   ]
  },
  {
   "cell_type": "code",
   "execution_count": 7,
   "metadata": {},
   "outputs": [
    {
     "name": "stdout",
     "output_type": "stream",
     "text": [
      "# features: 5000, # fields: 5\n"
     ]
    }
   ],
   "source": [
    "keep_field_names = {'GRADE', 'VIOLATION_', 'SCORE'}\n",
    "keep_field_names.add(view_lyr.properties.objectIdField)\n",
    "fields = list(map(\n",
    "    lambda f: {\n",
    "        'name': f.name,\n",
    "        'visible': True if f.name in keep_field_names else False\n",
    "    },\n",
    "    view_lyr.properties.fields\n",
    "))\n",
    "view_lyr.manager.update_definition({\"fields\": fields})\n",
    "\n",
    "print_reference(view_lyr)"
   ]
  },
  {
   "cell_type": "markdown",
   "metadata": {},
   "source": [
    "#### Features by attribute\n",
    "Update visible rows based on attribute [SQL where clause](https://pro.arcgis.com/en/pro-app/help/mapping/navigation/sql-reference-for-elements-used-in-query-expressions.htm)"
   ]
  },
  {
   "cell_type": "code",
   "execution_count": 8,
   "metadata": {},
   "outputs": [
    {
     "name": "stdout",
     "output_type": "stream",
     "text": [
      "# features: 3955, # fields: 5\n"
     ]
    }
   ],
   "source": [
    "where = \"GRADE = 'A'\"\n",
    "view_lyr.manager.update_definition({\"viewDefinitionQuery\": where})\n",
    "\n",
    "print_reference(view_lyr)"
   ]
  },
  {
   "cell_type": "markdown",
   "metadata": {},
   "source": [
    "#### Features by geometry\n",
    "Update visible rows based on a geography. A couple notes, can pass in a JSON representation of an [envelope](https://developers.arcgis.com/python/api-reference/arcgis.geometry.html#envelope) or [polygon](https://developers.arcgis.com/python/api-reference/arcgis.geometry.html#polygon). There's probably overhead to arbitray or complex polygons compared to envelopes. Also, the geometry coordinates should be specified in the same coordinate reference system as the map, this is often WebMercator (`wkid #102100`)."
   ]
  },
  {
   "cell_type": "code",
   "execution_count": 9,
   "metadata": {},
   "outputs": [
    {
     "name": "stdout",
     "output_type": "stream",
     "text": [
      "# features: 1532, # fields: 5\n"
     ]
    }
   ],
   "source": [
    "# Get Manhattan geometry, this is on the complex side. Data pulled from Hub\n",
    "# https://hub.arcgis.com/datasets/498c7ff03780407494301c23cb59b899_0\n",
    "buro_lyr = FeatureLayer('https://services1.arcgis.com/oOUgp466Coyjcu6V/arcgis/rest/services/NYC_Boroughs/FeatureServer/0')\n",
    "buro_fs = buro_lyr.query(out_sr=102100)\n",
    "manhattan_feature = list(filter(\n",
    "    lambda f: f.attributes['boro_name'] == 'Manhattan',\n",
    "    buro_fs.features\n",
    "))[0]\n",
    "manhattan_geom = manhattan_feature.geometry\n",
    "manhattan_geom['spatialReference'] = buro_fs.spatial_reference\n",
    "\n",
    "geo_definition = {\n",
    "    \"filter\": {\n",
    "        \"operator\": \"esriSpatialRelIntersects\",\n",
    "        \"value\": {\n",
    "            \"geometryType\": buro_fs.geometry_type,\n",
    "            \"geometry\": manhattan_geom\n",
    "        }\n",
    "    }\n",
    "}\n",
    "view_lyr.manager.update_definition({\"viewLayerDefinition\": geo_definition})\n",
    "\n",
    "print_reference(view_lyr)"
   ]
  },
  {
   "cell_type": "markdown",
   "metadata": {},
   "source": [
    "## Clean up"
   ]
  },
  {
   "cell_type": "code",
   "execution_count": 10,
   "metadata": {},
   "outputs": [
    {
     "data": {
      "text/plain": [
       "True"
      ]
     },
     "execution_count": 10,
     "metadata": {},
     "output_type": "execute_result"
    }
   ],
   "source": [
    "delete_items = gis.content.search(\"tags:esri_partner_tools_sample\")\n",
    "gis.content.delete_items(delete_items)"
   ]
  }
 ],
 "metadata": {
  "kernelspec": {
   "display_name": "Python 3",
   "language": "python",
   "name": "python3"
  },
  "language_info": {
   "codemirror_mode": {
    "name": "ipython",
    "version": 3
   },
   "file_extension": ".py",
   "mimetype": "text/x-python",
   "name": "python",
   "nbconvert_exporter": "python",
   "pygments_lexer": "ipython3",
   "version": "3.7.4"
  }
 },
 "nbformat": 4,
 "nbformat_minor": 4
}
