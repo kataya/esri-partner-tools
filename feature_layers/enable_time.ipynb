{
 "cells": [
  {
   "cell_type": "markdown",
   "metadata": {},
   "source": [
    "# Enable time\n",
    "ArcGIS allows you to [enable time on feature layers](https://doc.arcgis.com/en/arcgis-online/create-maps/configure-time.htm). This does a couple of things -- to the user, it will make time sliders and other UI components automatically show up in ArcGIS clients to respect the time settings of the layer. To the service, it will add time metadata (start / end) as well as an index to speed up time-based queries.\n",
    "\n",
    "This is a simple Python script to show doing this automatically. To update the metadata (eg when the underlying data changes), rerun the same process on the existing layer."
   ]
  },
  {
   "cell_type": "code",
   "execution_count": 1,
   "metadata": {},
   "outputs": [],
   "source": [
    "from arcgis.gis import GIS\n",
    "from arcgis.features import FeatureLayer"
   ]
  },
  {
   "cell_type": "markdown",
   "metadata": {},
   "source": [
    "## Variables\n",
    "* **gis**: your GIS instance, parameter information [here](https://developers.arcgis.com/python/guide/using-the-gis/)\n",
    "* **file_path**: the path to the GeoJSON file used to create a demo layer\n",
    "* **time_field**: the field representing time for a given feature / record"
   ]
  },
  {
   "cell_type": "code",
   "execution_count": 2,
   "metadata": {},
   "outputs": [
    {
     "name": "stdin",
     "output_type": "stream",
     "text": [
      "Enter password:  ········\n"
     ]
    }
   ],
   "source": [
    "gis = GIS(username=\"mpayson_geodev\")"
   ]
  },
  {
   "cell_type": "code",
   "execution_count": 3,
   "metadata": {},
   "outputs": [],
   "source": [
    "file_path = \"../sample_data/NYC_Restaurant_Inspections.geojson\"\n",
    "time_field = \"RECORD_DAT\""
   ]
  },
  {
   "cell_type": "markdown",
   "metadata": {},
   "source": [
    "## Initialization"
   ]
  },
  {
   "cell_type": "code",
   "execution_count": 4,
   "metadata": {},
   "outputs": [
    {
     "data": {
      "text/plain": [
       "<FeatureLayer url:\"https://services9.arcgis.com/ZfotufAA0t3yWBiW/arcgis/rest/services/My_GeoJSON/FeatureServer/0\">"
      ]
     },
     "execution_count": 4,
     "metadata": {},
     "output_type": "execute_result"
    }
   ],
   "source": [
    "# publish a new layer item for demo purposes\n",
    "item = gis.content.add({\n",
    "    \"type\": \"GeoJson\",\n",
    "    \"title\": \"My GeoJSON\",\n",
    "    \"tags\": \"esri_partner_tools_sample\"\n",
    "}, data='../sample_data/NYC_Restaurant_Inspections.geojson')\n",
    "lyr_item = item.publish()\n",
    "\n",
    "# get a reference to the feature layer\n",
    "lyr = FeatureLayer.fromitem(lyr_item)\n",
    "lyr"
   ]
  },
  {
   "cell_type": "markdown",
   "metadata": {},
   "source": [
    "### Enable time! This is the important part"
   ]
  },
  {
   "cell_type": "code",
   "execution_count": 5,
   "metadata": {},
   "outputs": [
    {
     "data": {
      "text/plain": [
       "{'success': True}"
      ]
     },
     "execution_count": 5,
     "metadata": {},
     "output_type": "execute_result"
    }
   ],
   "source": [
    "update_dict = {\n",
    "    \"timeInfo\": {\n",
    "        \"startTimeField\": time_field,\n",
    "        # use to represent a time range, not single event\n",
    "        # \"endTimeField\": end_field\n",
    "    }\n",
    "}\n",
    "lyr.manager.add_to_definition(update_dict)"
   ]
  },
  {
   "cell_type": "markdown",
   "metadata": {},
   "source": [
    "## Clean Up"
   ]
  },
  {
   "cell_type": "code",
   "execution_count": 6,
   "metadata": {},
   "outputs": [
    {
     "data": {
      "text/plain": [
       "True"
      ]
     },
     "execution_count": 6,
     "metadata": {},
     "output_type": "execute_result"
    }
   ],
   "source": [
    "delete_items = gis.content.search(\"tags:esri_partner_tools_sample\")\n",
    "gis.content.delete_items(delete_items)"
   ]
  },
  {
   "cell_type": "code",
   "execution_count": null,
   "metadata": {},
   "outputs": [],
   "source": []
  }
 ],
 "metadata": {
  "kernelspec": {
   "display_name": "Python 3",
   "language": "python",
   "name": "python3"
  },
  "language_info": {
   "codemirror_mode": {
    "name": "ipython",
    "version": 3
   },
   "file_extension": ".py",
   "mimetype": "text/x-python",
   "name": "python",
   "nbconvert_exporter": "python",
   "pygments_lexer": "ipython3",
   "version": "3.8.5"
  }
 },
 "nbformat": 4,
 "nbformat_minor": 4
}
