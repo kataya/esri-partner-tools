{
 "cells": [
  {
   "cell_type": "markdown",
   "metadata": {},
   "source": [
    "# Manage Fields\n",
    "[Feature Layer](http://esri.github.io/arcgis-python-api/apidoc/html/arcgis.features.toc.html#featurelayer) || [the Manager](http://esri.github.io/arcgis-python-api/apidoc/html/arcgis.features.managers.html?highlight=manager#featurelayermanager) || [About field types](http://pro.arcgis.com/en/pro-app/tool-reference/data-management/add-field.htm) || [Rest endpoint](http://resources.arcgis.com/en/help/arcgis-rest-api/#/Add_to_Definition_Feature_Layer/02r300000228000000/)"
   ]
  },
  {
   "cell_type": "code",
   "execution_count": 1,
   "metadata": {},
   "outputs": [],
   "source": [
    "from arcgis.gis import GIS\n",
    "from arcgis.features import FeatureLayer"
   ]
  },
  {
   "cell_type": "code",
   "execution_count": 2,
   "metadata": {},
   "outputs": [
    {
     "name": "stdin",
     "output_type": "stream",
     "text": [
      "Enter password:  ········\n"
     ]
    }
   ],
   "source": [
    "gis = GIS(username=\"mpayson_startups\")"
   ]
  },
  {
   "cell_type": "code",
   "execution_count": 6,
   "metadata": {},
   "outputs": [],
   "source": [
    "lyr = FeatureLayer(\"https://services.arcgis.com/q7zPNeKmTWeh7Aor/arcgis/rest/services/demo/FeatureServer/0\", gis=gis)"
   ]
  },
  {
   "cell_type": "markdown",
   "metadata": {},
   "source": [
    "### Existing Fields"
   ]
  },
  {
   "cell_type": "code",
   "execution_count": 7,
   "metadata": {},
   "outputs": [
    {
     "data": {
      "text/plain": [
       "[{\n",
       "   \"name\": \"OBJECTID\",\n",
       "   \"type\": \"esriFieldTypeOID\",\n",
       "   \"alias\": \"OBJECTID\",\n",
       "   \"sqlType\": \"sqlTypeOther\",\n",
       "   \"nullable\": false,\n",
       "   \"editable\": false,\n",
       "   \"domain\": null,\n",
       "   \"defaultValue\": null\n",
       " }, {\n",
       "   \"name\": \"coded\",\n",
       "   \"type\": \"esriFieldTypeInteger\",\n",
       "   \"alias\": \"Coded\",\n",
       "   \"sqlType\": \"sqlTypeInteger\",\n",
       "   \"nullable\": true,\n",
       "   \"editable\": true,\n",
       "   \"domain\": {\n",
       "     \"type\": \"codedValue\",\n",
       "     \"name\": \"coded\",\n",
       "     \"codedValues\": [\n",
       "       {\n",
       "         \"name\": \"Stop\",\n",
       "         \"code\": 1\n",
       "       },\n",
       "       {\n",
       "         \"name\": \"Speed\",\n",
       "         \"code\": 2\n",
       "       }\n",
       "     ]\n",
       "   },\n",
       "   \"defaultValue\": null\n",
       " }]"
      ]
     },
     "execution_count": 7,
     "metadata": {},
     "output_type": "execute_result"
    }
   ],
   "source": [
    "lyr.properties.fields"
   ]
  },
  {
   "cell_type": "markdown",
   "metadata": {},
   "source": [
    "### Add Field"
   ]
  },
  {
   "cell_type": "code",
   "execution_count": null,
   "metadata": {
    "collapsed": true,
    "jupyter": {
     "outputs_hidden": true
    }
   },
   "outputs": [],
   "source": [
    "new_field = {\n",
    "    \"name\": \"TEST_STR_FIELD\",\n",
    "    \"type\": \"esriFieldTypeString\",\n",
    "    \"alias\": \"TEST_STR_FIELD\",\n",
    "    \"length\": 256,\n",
    "    \"nullable\": True,\n",
    "    \"editable\": True,\n",
    "    \"visible\": True,\n",
    "    \"domain\": None\n",
    "}\n",
    "update_dict = {\"fields\": [new_field]}"
   ]
  },
  {
   "cell_type": "code",
   "execution_count": null,
   "metadata": {
    "collapsed": true,
    "jupyter": {
     "outputs_hidden": true
    }
   },
   "outputs": [],
   "source": [
    "lyr.manager.add_to_definition(update_dict)"
   ]
  }
 ],
 "metadata": {
  "kernelspec": {
   "display_name": "Python 3",
   "language": "python",
   "name": "python3"
  },
  "language_info": {
   "codemirror_mode": {
    "name": "ipython",
    "version": 3
   },
   "file_extension": ".py",
   "mimetype": "text/x-python",
   "name": "python",
   "nbconvert_exporter": "python",
   "pygments_lexer": "ipython3",
   "version": "3.7.4"
  }
 },
 "nbformat": 4,
 "nbformat_minor": 4
}
