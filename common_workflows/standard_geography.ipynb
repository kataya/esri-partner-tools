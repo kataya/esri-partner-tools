{
 "cells": [
  {
   "cell_type": "markdown",
   "metadata": {},
   "source": [
    "# Bulk Standard Geography\n",
    "A notebook to enrich **[standard geography](https://developers.arcgis.com/rest/geoenrichment/api-reference/standard-geography-query.htm) ids**, such as `census block groups`, with their geometries and publish as a geographic layer. This uses the [`standard_geography_query`](https://esri.github.io/arcgis-python-api/apidoc/html/arcgis.geoenrichment.html#standard-geography-query) function and there's a blog about these queries [here](https://blogs.esri.com/esri/arcgis/2017/07/10/best-practices-how-to-query-standard-geographies-branches/)."
   ]
  },
  {
   "cell_type": "code",
   "execution_count": null,
   "metadata": {},
   "outputs": [],
   "source": [
    "# common imports\n",
    "import pandas as pd\n",
    "from arcgis.gis import GIS\n",
    "from arcgis.geoenrichment import standard_geography_query"
   ]
  },
  {
   "cell_type": "markdown",
   "metadata": {},
   "source": [
    "***Note**, if you are unable to import local `partnerutils`, **copy the following functions** from [`cool_utils`](https://github.com/mpayson/esri-partner-tools/blob/master/partnerutils/cool_utils.py)"
   ]
  },
  {
   "cell_type": "code",
   "execution_count": null,
   "metadata": {},
   "outputs": [],
   "source": [
    "from partnerutils.cool_utils import chunk"
   ]
  },
  {
   "cell_type": "markdown",
   "metadata": {},
   "source": [
    "## User Input\n",
    "* **GIS**: Your GIS instance, parameter information [here](https://developers.arcgis.com/python/guide/using-the-gis/). Not specifying a password creates a password prompt"
   ]
  },
  {
   "cell_type": "code",
   "execution_count": null,
   "metadata": {},
   "outputs": [],
   "source": [
    "gis = GIS(username=\"mpayson_startups\")"
   ]
  },
  {
   "cell_type": "markdown",
   "metadata": {},
   "source": [
    "* **csv_path**: Path to the `csv` with geography IDs\n",
    "* **lyr_title**: Title for output hosted layer\n",
    "* **layers**: The standard geography layers whose geometry you want to fetch. Here's the [US list](http://geoenrich.arcgis.com/arcgis/rest/services/World/GeoenrichmentServer/Geoenrichment/StandardGeographyLevels/US/census?f=pjson) of layers.\n",
    "* **f_std_id**: The `csv` field with the ids corresponding to a standard geography layer"
   ]
  },
  {
   "cell_type": "code",
   "execution_count": null,
   "metadata": {},
   "outputs": [],
   "source": [
    "csv_path = '../sample_data/sample_census_tract_geoid.csv'\n",
    "lyr_title = 'test out'\n",
    "layers = ['US.Tracts']\n",
    "f_std_id = 'census_tract_geoid'"
   ]
  },
  {
   "cell_type": "markdown",
   "metadata": {},
   "source": [
    "## Execution"
   ]
  },
  {
   "cell_type": "code",
   "execution_count": null,
   "metadata": {},
   "outputs": [],
   "source": [
    "# read df\n",
    "df = pd.read_csv(csv_path, dtype={f_std_id: 'object'})"
   ]
  },
  {
   "cell_type": "code",
   "execution_count": null,
   "metadata": {},
   "outputs": [],
   "source": [
    "# get and concat geometries, chunking because of request time-outs\n",
    "ids = [i for i in df[f_std_id]]\n",
    "gdf = pd.concat((standard_geography_query(layers=layers, ids=c, return_geometry=True) for c in chunk(ids)), ignore_index=True)"
   ]
  },
  {
   "cell_type": "code",
   "execution_count": null,
   "metadata": {},
   "outputs": [],
   "source": [
    "# merge geometries\n",
    "sdf = pd.merge(gdf, df, left_on='AreaID', right_on=f_std_id)"
   ]
  },
  {
   "cell_type": "code",
   "execution_count": null,
   "metadata": {},
   "outputs": [],
   "source": [
    "# Send it!\n",
    "sdf.spatial.to_featurelayer(lyr_title, tags=\"esri_partner_tools_sample\")"
   ]
  },
  {
   "cell_type": "markdown",
   "metadata": {},
   "source": [
    "## Clean up"
   ]
  },
  {
   "cell_type": "code",
   "execution_count": null,
   "metadata": {},
   "outputs": [],
   "source": [
    "delete_items = gis.content.search(\"tags:esri_partner_tools_sample\")\n",
    "gis.content.delete_items(delete_items)"
   ]
  }
 ],
 "metadata": {
  "kernelspec": {
   "display_name": "Python 3",
   "language": "python",
   "name": "python3"
  },
  "language_info": {
   "codemirror_mode": {
    "name": "ipython",
    "version": 3
   },
   "file_extension": ".py",
   "mimetype": "text/x-python",
   "name": "python",
   "nbconvert_exporter": "python",
   "pygments_lexer": "ipython3",
   "version": "3.7.4"
  }
 },
 "nbformat": 4,
 "nbformat_minor": 4
}
