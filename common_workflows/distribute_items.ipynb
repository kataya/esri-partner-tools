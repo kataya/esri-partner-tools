{
 "cells": [
  {
   "cell_type": "markdown",
   "metadata": {},
   "source": [
    "# Distribute Items\n",
    "Jupyter Notebook to show different patterns for distributing items to another organization.\n",
    "\n",
    "The patterns can include: [share items](#Share-Item) || [copy & share items](#Copy-then-Share-Item) || [clone items](#Clone-Item) || [clone and modify applications](#Clone-and-Modify-Applications) and more\n",
    "\n",
    "> ***Note** [Groups](https://doc.arcgis.com/en/arcgis-online/share-maps/groups.htm) can be used to share data so that you maintain ownership without cloning the content. To set up groups, see [configure](https://github.com/mpayson/esri-partner-tools/blob/master/build_org/configure_org.ipynb) for new users, or [create_share](https://github.com/mpayson/esri-partner-tools/blob/master/build_org/create_share_group.ipynb) for existing users."
   ]
  },
  {
   "cell_type": "code",
   "execution_count": null,
   "metadata": {},
   "outputs": [],
   "source": [
    "from arcgis.gis import GIS, Item"
   ]
  },
  {
   "cell_type": "markdown",
   "metadata": {},
   "source": [
    "***Note**, if you are unable to import local `partnerutils`, **copy the following functions** from [`clone_utils`](https://github.com/mpayson/esri-partner-tools/blob/master/partnerutils/clone_utils.py)"
   ]
  },
  {
   "cell_type": "code",
   "execution_count": null,
   "metadata": {},
   "outputs": [],
   "source": [
    "from partnerutils.clone_utils import search_group_title, clone_items_modify, search_item_title"
   ]
  },
  {
   "cell_type": "code",
   "execution_count": null,
   "metadata": {},
   "outputs": [],
   "source": [
    "src = GIS(username=\"mpayson_startups\")\n",
    "tar = GIS(username=\"mspatialstartups\")"
   ]
  },
  {
   "cell_type": "markdown",
   "metadata": {},
   "source": [
    "#### Example Constants"
   ]
  },
  {
   "cell_type": "code",
   "execution_count": null,
   "metadata": {},
   "outputs": [],
   "source": [
    "GROUP_NAMES = ['Max Test']\n",
    "\n",
    "SHARE_ITEMID = \"90dffd24537240a59eede871ade5856a\"\n",
    "COPY_ITEMID = \"90dffd24537240a59eede871ade5856a\"\n",
    "CLONE_ITEMID = \"90dffd24537240a59eede871ade5856a\"\n",
    "APP_ID = \"1bbda506fdfd4c82a90fea57426f5603\"\n",
    "\n",
    "NAME_TEMPLATE = \"{} -- \" + tar.properties['urlKey']\n",
    "FOLDER = \"Content -- \" + tar.properties['urlKey']"
   ]
  },
  {
   "cell_type": "code",
   "execution_count": null,
   "metadata": {},
   "outputs": [],
   "source": [
    "groups = [search_group_title(target=src, title=n, outside_org=True) for n in GROUP_NAMES]\n",
    "groups"
   ]
  },
  {
   "cell_type": "markdown",
   "metadata": {},
   "source": [
    "### Modify Functions\n",
    "Sometimes you don't want a 1:1 copy, these functions will modify the cloned item properties. A few notes:\n",
    "* `modify_item_callback` receives the cloned item and its gis. It should return a flattened dict of properties [here](https://esri.github.io/arcgis-python-api/apidoc/html/arcgis.gis.toc.html?highlight=clone_items#arcgis.gis.Item.update)\n",
    "* The default behavior is to update the item to match the NAME_TEMPLATE"
   ]
  },
  {
   "cell_type": "code",
   "execution_count": null,
   "metadata": {},
   "outputs": [],
   "source": [
    "def modify_item_callback(item, target_gis):\n",
    "    title = NAME_TEMPLATE.format(item.title)\n",
    "    while search_item_title(target_gis, title):\n",
    "        title = input(\"Title `{0}` for ITEM `{1}` already exists \\n new title: \"\n",
    "                         .format(title, item.title))\n",
    "    return {\"title\": title}"
   ]
  },
  {
   "cell_type": "markdown",
   "metadata": {},
   "source": [
    "## Execution"
   ]
  },
  {
   "cell_type": "markdown",
   "metadata": {},
   "source": [
    "### Share Item\n",
    "Shares an item with an existing group. Use this pattern if you want to own and maintain single authoritative items that all of your user organizations can access."
   ]
  },
  {
   "cell_type": "code",
   "execution_count": null,
   "metadata": {},
   "outputs": [],
   "source": [
    "share_item = Item(src, SHARE_ITEMID)"
   ]
  },
  {
   "cell_type": "code",
   "execution_count": null,
   "metadata": {},
   "outputs": [],
   "source": [
    "share_item.share(groups=groups)"
   ]
  },
  {
   "cell_type": "markdown",
   "metadata": {},
   "source": [
    "### Copy then Share Item\n",
    "Copies and shares an item to an existing group. Use this pattern if you have a template item and you want each user organization to access a copy while **you own and maintain the copies**."
   ]
  },
  {
   "cell_type": "code",
   "execution_count": null,
   "metadata": {},
   "outputs": [],
   "source": [
    "copy_item = Item(src, COPY_ITEMID)"
   ]
  },
  {
   "cell_type": "code",
   "execution_count": null,
   "metadata": {},
   "outputs": [],
   "source": [
    "paste_items = clone_items_modify([copy_item], src,\n",
    "                               modify_item_callback=modify_item_callback,\n",
    "                               copy_data=False, search_existing_items=False,\n",
    "                               folder=FOLDER)\n",
    "paste_share_res = [i.share(groups=groups) for i in paste_items]\n",
    "paste_share_res"
   ]
  },
  {
   "cell_type": "markdown",
   "metadata": {},
   "source": [
    "### Clone Item\n",
    "Clones an item to a target organization. Use this pattern if you have a template item and you want **each user organization to own their copy**."
   ]
  },
  {
   "cell_type": "code",
   "execution_count": null,
   "metadata": {},
   "outputs": [],
   "source": [
    "clone_item = Item(src, CLONE_ITEMID)"
   ]
  },
  {
   "cell_type": "code",
   "execution_count": null,
   "metadata": {},
   "outputs": [],
   "source": [
    "clones = clone_items_modify([clone_item], tar,\n",
    "                               modify_item_callback=modify_item_callback,\n",
    "                               copy_data=True, search_existing_items=False,\n",
    "                               folder=FOLDER)\n",
    "clones"
   ]
  },
  {
   "cell_type": "markdown",
   "metadata": {},
   "source": [
    "### Clone and Modify Applications\n",
    "Clones an application (or webmap) then swizzles the dependencies. Use this pattern if you have a template application/map that should be configured for data that your user organizations can now access.\n",
    "\n",
    "By default, the clone_items functions will also clone dependencies. This example shows how to reference the newly shared item via a group, so that the end-organization owns the application but you maintain the underlying data."
   ]
  },
  {
   "cell_type": "code",
   "execution_count": null,
   "metadata": {},
   "outputs": [],
   "source": [
    "app_item = Item(src, APP_ID)\n",
    "item_map = {copy_item.id: paste_items[0].id}\n",
    "item_map"
   ]
  },
  {
   "cell_type": "code",
   "execution_count": null,
   "metadata": {},
   "outputs": [],
   "source": [
    "app_clones = clone_items_modify([app_item], tar,\n",
    "                               modify_item_callback=modify_item_callback,\n",
    "                               copy_data=False, search_existing_items=False,\n",
    "                               folder=FOLDER,\n",
    "                               item_mapping=item_map)\n",
    "app_clones"
   ]
  },
  {
   "cell_type": "code",
   "execution_count": null,
   "metadata": {},
   "outputs": [],
   "source": []
  }
 ],
 "metadata": {
  "kernelspec": {
   "display_name": "Python 3",
   "language": "python",
   "name": "python3"
  },
  "language_info": {
   "codemirror_mode": {
    "name": "ipython",
    "version": 3
   },
   "file_extension": ".py",
   "mimetype": "text/x-python",
   "name": "python",
   "nbconvert_exporter": "python",
   "pygments_lexer": "ipython3",
   "version": "3.7.4"
  }
 },
 "nbformat": 4,
 "nbformat_minor": 4
}
