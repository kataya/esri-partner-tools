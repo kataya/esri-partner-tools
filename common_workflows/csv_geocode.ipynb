{
 "cells": [
  {
   "cell_type": "markdown",
   "metadata": {},
   "source": [
    "# Bulk CSV Geocode\n",
    "*A notebook to [geocode](https://developers.arcgis.com/features/geocoding/) rows in a `csv`*"
   ]
  },
  {
   "cell_type": "code",
   "execution_count": null,
   "metadata": {
    "collapsed": true,
    "jupyter": {
     "outputs_hidden": true
    }
   },
   "outputs": [],
   "source": [
    "# common imports\n",
    "import csv\n",
    "from arcgis.gis import GIS\n",
    "from arcgis.geocoding import batch_geocode"
   ]
  },
  {
   "cell_type": "markdown",
   "metadata": {},
   "source": [
    "***Note**, if you are unable to import local `partnerutils`, **copy the following functions** from [`cool_utils`](https://github.com/mpayson/esri-partner-tools/blob/master/partnerutils/cool_utils.py)"
   ]
  },
  {
   "cell_type": "code",
   "execution_count": null,
   "metadata": {
    "collapsed": true,
    "jupyter": {
     "outputs_hidden": true
    }
   },
   "outputs": [],
   "source": [
    "from partnerutils.cool_utils import chunk"
   ]
  },
  {
   "cell_type": "markdown",
   "metadata": {},
   "source": [
    "## User Input\n",
    "* **GIS**: Your GIS instance, parameter information [here](https://developers.arcgis.com/python/guide/using-the-gis/). Not specifying a password creates a password prompt"
   ]
  },
  {
   "cell_type": "code",
   "execution_count": null,
   "metadata": {
    "collapsed": true,
    "jupyter": {
     "outputs_hidden": true
    }
   },
   "outputs": [],
   "source": [
    "gis = GIS(username=\"mpayson_startups\")"
   ]
  },
  {
   "cell_type": "markdown",
   "metadata": {},
   "source": [
    "* **csv_path**: path to the `csv` to be geocoded\n",
    "* **out_path**: path to the output `csv`\n",
    "* **address_fields**: map geocode request fields to csv fields, can also be a SingleLine field string--more [here](https://developers.arcgis.com/rest/geocode/api-reference/geocoding-geocode-addresses.htm) "
   ]
  },
  {
   "cell_type": "code",
   "execution_count": null,
   "metadata": {
    "collapsed": true,
    "jupyter": {
     "outputs_hidden": true
    }
   },
   "outputs": [],
   "source": [
    "csv_path = \"NYC Inspection test.csv\"\n",
    "out_path = \"Geocode Results.csv\"\n",
    "address_fields = {\n",
    "    \"Address\": \"ADDRESS\",\n",
    "    \"City\": \"CITY\",\n",
    "    \"Region\": \"STATE\",\n",
    "    \"Postal\": \"ZIPCODE\"\n",
    "}"
   ]
  },
  {
   "cell_type": "markdown",
   "metadata": {},
   "source": [
    "## Functions"
   ]
  },
  {
   "cell_type": "code",
   "execution_count": null,
   "metadata": {
    "collapsed": true,
    "jupyter": {
     "outputs_hidden": true
    }
   },
   "outputs": [],
   "source": [
    "# translate csv fields to geocode request fields\n",
    "def format_request_address(row, address_fields):\n",
    "    if type(address_fields) == str:\n",
    "        return row[address_fields]\n",
    "    return {field: row[address_fields[field]] for field in address_fields}\n",
    "\n",
    "# get output location dictionary from geocode result\n",
    "def get_location(res):\n",
    "    if res:\n",
    "        return {\n",
    "            \"x\": res['location']['x'],\n",
    "            \"y\": res['location']['y'],\n",
    "            \"score\": res['score']\n",
    "        }\n",
    "    return {}"
   ]
  },
  {
   "cell_type": "markdown",
   "metadata": {},
   "source": [
    "## Execution"
   ]
  },
  {
   "cell_type": "code",
   "execution_count": null,
   "metadata": {
    "collapsed": true,
    "jupyter": {
     "outputs_hidden": true
    }
   },
   "outputs": [],
   "source": [
    "# read the csv\n",
    "with open(csv_path, 'r') as data_csv:\n",
    "    rows = csv.DictReader(data_csv)\n",
    "    data = [row for row in rows]"
   ]
  },
  {
   "cell_type": "code",
   "execution_count": null,
   "metadata": {
    "collapsed": true,
    "jupyter": {
     "outputs_hidden": true
    }
   },
   "outputs": [],
   "source": [
    "output = []\n",
    "\n",
    "# iterate through chunks, format the address requests, geocode, merge location results with chunk data\n",
    "for c in chunk(data):\n",
    "    adrs = [format_request_address(r, address_fields) for r in c]\n",
    "    results = batch_geocode(addresses=adrs)\n",
    "    chunk_out = [{**r, **get_location(results[i])} for i, r in enumerate(c)]\n",
    "    output += chunk_out"
   ]
  },
  {
   "cell_type": "code",
   "execution_count": null,
   "metadata": {
    "collapsed": true,
    "jupyter": {
     "outputs_hidden": true
    }
   },
   "outputs": [],
   "source": [
    "# write output\n",
    "with open(out_path, 'w') as csvfile:\n",
    "    writer = csv.DictWriter(csvfile, fieldnames=output[0].keys())\n",
    "    writer.writeheader()\n",
    "    for row in output:\n",
    "        writer.writerow(row)"
   ]
  }
 ],
 "metadata": {
  "kernelspec": {
   "display_name": "Python 3",
   "language": "python",
   "name": "python3"
  },
  "language_info": {
   "codemirror_mode": {
    "name": "ipython",
    "version": 3
   },
   "file_extension": ".py",
   "mimetype": "text/x-python",
   "name": "python",
   "nbconvert_exporter": "python",
   "pygments_lexer": "ipython3",
   "version": "3.7.4"
  }
 },
 "nbformat": 4,
 "nbformat_minor": 4
}
